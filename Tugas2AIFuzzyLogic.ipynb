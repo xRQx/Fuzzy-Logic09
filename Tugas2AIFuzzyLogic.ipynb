{
  "nbformat": 4,
  "nbformat_minor": 0,
  "metadata": {
    "colab": {
      "name": "Tugas2AIFuzzyLogic.ipynb",
      "version": "0.3.2",
      "provenance": [],
      "collapsed_sections": [],
      "include_colab_link": true
    },
    "kernelspec": {
      "name": "python3",
      "display_name": "Python 3"
    }
  },
  "cells": [
    {
      "cell_type": "markdown",
      "metadata": {
        "id": "view-in-github",
        "colab_type": "text"
      },
      "source": [
        "<a href=\"https://colab.research.google.com/github/xRQx/Fuzzy-Logic09/blob/master/Tugas2AIFuzzyLogic.ipynb\" target=\"_parent\"><img src=\"https://colab.research.google.com/assets/colab-badge.svg\" alt=\"Open In Colab\"/></a>"
      ]
    },
    {
      "metadata": {
        "id": "_Ivmp1eKE2_b",
        "colab_type": "code",
        "colab": {
          "base_uri": "https://localhost:8080/",
          "height": 127
        },
        "outputId": "1e58e16c-1bd5-49a6-9758-7e6defbb3b9c"
      },
      "cell_type": "code",
      "source": [
        "import numpy as np\n",
        "import pandas as pd\n",
        "import matplotlib.pyplot as plt; \n",
        "from google.colab import files\n",
        "%matplotlib inline\n",
        "!git clone https://github.com/xRQx/Fuzzy-Logic09"
      ],
      "execution_count": 3,
      "outputs": [
        {
          "output_type": "stream",
          "text": [
            "Cloning into 'Fuzzy-Logic09'...\n",
            "remote: Enumerating objects: 6, done.\u001b[K\n",
            "remote: Counting objects:  16% (1/6)   \u001b[K\rremote: Counting objects:  33% (2/6)   \u001b[K\rremote: Counting objects:  50% (3/6)   \u001b[K\rremote: Counting objects:  66% (4/6)   \u001b[K\rremote: Counting objects:  83% (5/6)   \u001b[K\rremote: Counting objects: 100% (6/6)   \u001b[K\rremote: Counting objects: 100% (6/6), done.\u001b[K\n",
            "remote: Compressing objects:  25% (1/4)   \u001b[K\rremote: Compressing objects:  50% (2/4)   \u001b[K\rremote: Compressing objects:  75% (3/4)   \u001b[K\rremote: Compressing objects: 100% (4/4)   \u001b[K\rremote: Compressing objects: 100% (4/4), done.\u001b[K\n",
            "remote: Total 6 (delta 0), reused 0 (delta 0), pack-reused 0\u001b[K\n",
            "Unpacking objects:  16% (1/6)   \rUnpacking objects:  33% (2/6)   \rUnpacking objects:  50% (3/6)   \rUnpacking objects:  66% (4/6)   \rUnpacking objects:  83% (5/6)   \rUnpacking objects: 100% (6/6)   \rUnpacking objects: 100% (6/6), done.\n"
          ],
          "name": "stdout"
        }
      ]
    },
    {
      "metadata": {
        "id": "k5Zi9pObGZ_5",
        "colab_type": "code",
        "colab": {}
      },
      "cell_type": "code",
      "source": [
        "data = pd.read_csv('Fuzzy-Logic/DataTugas2.csv',skipinitialspace=True)\n",
        "del data['No']\n",
        "data"
      ],
      "execution_count": 0,
      "outputs": []
    },
    {
      "metadata": {
        "id": "HKu1Is5ZHYM1",
        "colab_type": "code",
        "colab": {}
      },
      "cell_type": "code",
      "source": [
        "class Fuzzy:\n",
        "    def __init__(self):\n",
        "        self.nPendapatan = []\n",
        "        self.sPendatapan = []\n",
        "        self.nHutang = []\n",
        "        self.sHutang = []\n",
        "        self.hasilYa = []\n",
        "        self.hasilTidak = []"
      ],
      "execution_count": 0,
      "outputs": []
    },
    {
      "metadata": {
        "id": "pJoPneqKH6Lp",
        "colab_type": "code",
        "colab": {}
      },
      "cell_type": "code",
      "source": [
        "def cekGaji(self,data):\n",
        "        if (data >= 0 and data <= 0.747):\n",
        "            self.sPendatapan.append(\"Rendah\")\n",
        "            self.nPendapatan.append(1.0)\n",
        "            self.sPendatapan.append(\"Rendah\")\n",
        "            self.nPendapatan.append(1.0)\n",
        "        elif (data > 0.747 and data <= 0.923):\n",
        "            self.sPendatapan.append(\"Rendah\")\n",
        "            self.nPendapatan.append(-(data - 0.923) / (0.923 - 0.747))\n",
        "            self.sPendatapan.append(\"Sedang\")\n",
        "            self.nPendapatan.append((data - 0.747) / (0.923 - 0.747))\n",
        "        elif (data > 0.923 and data <= 1.282):\n",
        "            self.sPendatapan.append(\"Sedang\")\n",
        "            self.nPendapatan.append(1.0)\n",
        "            self.sPendatapan.append(\"Sedang\")\n",
        "            self.nPendapatan.append(1.0)\n",
        "        elif (data > 1.282 and data <= 1.548):\n",
        "            self.sPendatapan.append(\"Sedang\")\n",
        "            self.nPendapatan.append(-(data - 1.548) / (1.548 - 1.282))\n",
        "            self.sPendatapan.append(\"Tinggi\")\n",
        "            self.nPendapatan.append((data - 1.282) / (1.548 - 1.282))\n",
        "        elif (data > 1.548):\n",
        "            self.sPendatapan.append(\"Tinggi\")\n",
        "            self.nPendapatan.append(1.0)\n",
        "            self.sPendatapan.append(\"Tinggi\")\n",
        "            self.nPendapatan.append(1.0)"
      ],
      "execution_count": 0,
      "outputs": []
    },
    {
      "metadata": {
        "id": "xKp2vBNsIWVs",
        "colab_type": "code",
        "colab": {}
      },
      "cell_type": "code",
      "source": [
        "def cekHutang(self,data):\n",
        "        if (data >= 0 and data <= 25.246):\n",
        "            self.sHutang.append(\"Rendah\")\n",
        "            self.nHutang.append(1.0)\n",
        "            self.sHutang.append(\"Rendah\")\n",
        "            self.nHutang.append(1.0)\n",
        "        elif (data > 25.246 and data <= 36.429):\n",
        "            self.sHutang.append(\"Rendah\")\n",
        "            self.nHutang.append(-(data - 36.429) / (36.429 - 25.246))\n",
        "            self.sHutang.append(\"Sedang\")\n",
        "            self.nHutang.append((data - 25.246) / (36.429 - 25.246))\n",
        "        elif (data > 36.429 and data <= 45.566):\n",
        "            self.sHutang.append(\"Sedang\")\n",
        "            self.nHutang.append(1.0)\n",
        "            self.sHutang.append(\"Sedang\")\n",
        "            self.nHutang.append(1.0)\n",
        "        elif (data > 45.566 and data <= 61.661):\n",
        "            self.sHutang.append(\"Sedang\")\n",
        "            self.nHutang.append(-(data - 61.661) / (61.661 - 45.566))\n",
        "            self.sHutang.append(\"Tinggi\")\n",
        "            self.nHutang.append((data - 45.566) / (61.661 - 45.566))\n",
        "        elif (data > 61.661):\n",
        "            self.sHutang.append(\"Tinggi\")\n",
        "            self.nHutang.append(1.0)\n",
        "            self.sHutang.append(\"Tinggi\")\n",
        "            self.nHutang.append(1.0)"
      ],
      "execution_count": 0,
      "outputs": []
    },
    {
      "metadata": {
        "id": "uLsbPC3fIdLg",
        "colab_type": "code",
        "colab": {}
      },
      "cell_type": "code",
      "source": [
        "def inference(self):\n",
        "        for iP in range(0, 2):\n",
        "            # for iH in range(0, 2):\n",
        "\n",
        "            if (self.sPendatapan[iP] == 'Rendah' and self.sHutang[iP] == 'Rendah'):\n",
        "                sBerhak = 'Tidak'\n",
        "            if (self.sPendatapan[iP] == 'Rendah' and self.sHutang[iP] == 'Sedang'):\n",
        "                sBerhak = 'Tidak'\n",
        "            if (self.sPendatapan[iP] == 'Rendah' and self.sHutang[iP] == 'Tinggi'):\n",
        "                sBerhak = 'Ya'\n",
        "\n",
        "            if (self.sPendatapan[iP] == 'Sedang' and self.sHutang[iP] == 'Rendah'):\n",
        "                sBerhak = 'Tidak'\n",
        "            if (self.sPendatapan[iP] == 'Sedang' and self.sHutang[iP] == 'Sedang'):\n",
        "                sBerhak = 'Tidak'\n",
        "            if (self.sPendatapan[iP] == 'Sedang' and self.sHutang[iP] == 'Tinggi'):\n",
        "                sBerhak = 'Ya'\n",
        "\n",
        "            if (self.sPendatapan[iP] == 'Tinggi' and self.sHutang[iP] == 'Rendah'):\n",
        "                sBerhak = 'Tidak'\n",
        "            if (self.sPendatapan[iP] == 'Tinggi' and self.sHutang[iP] == 'Sedang'):\n",
        "                sBerhak = 'Tidak'\n",
        "            if (self.sPendatapan[iP] == 'Tinggi' and self.sHutang[iP] == 'Tinggi'):\n",
        "                sBerhak = 'Tidak'\n",
        "\n",
        "            nBerhak = min(self.nPendapatan[iP], self.nHutang[iP])\n",
        "            if (sBerhak == 'Tidak'):\n",
        "                self.hasilTidak.append([nBerhak, sBerhak])\n",
        "            else:\n",
        "                self.hasilYa.append([nBerhak, sBerhak])\n"
      ],
      "execution_count": 0,
      "outputs": []
    },
    {
      "metadata": {
        "id": "0tutpnO3Ih8p",
        "colab_type": "code",
        "colab": {}
      },
      "cell_type": "code",
      "source": [
        "\n",
        "        if (len(self.hasilYa) == 0):\n",
        "            self.hasilYa.append([0.0, \"Ya\"])\n",
        "        if (len(self.hasilTidak) == 0):\n",
        "            self.hasilTidak.append([0.0, \"Tidak\"])"
      ],
      "execution_count": 0,
      "outputs": []
    },
    {
      "metadata": {
        "id": "fYpNQF5iIj7W",
        "colab_type": "code",
        "colab": {}
      },
      "cell_type": "code",
      "source": [
        "def deffuzification(self):\n",
        "        tidak = self.hasilTidak[0][0]\n",
        "        ya = self.hasilYa[0][0]\n",
        "        # yStar = ((tidak * 41 + ya * 81) / (ya + tidak))\n",
        "        if(ya+tidak > 0):\n",
        "            yStar = ((tidak * 50 + ya * 100) / (ya + tidak))\n",
        "        else:\n",
        "            yStar = 0\n",
        "        return yStar"
      ],
      "execution_count": 0,
      "outputs": []
    },
    {
      "metadata": {
        "id": "04xWKw_rInn1",
        "colab_type": "code",
        "colab": {}
      },
      "cell_type": "code",
      "source": [
        "def cekBerhak(self):\n",
        "        if (self.deffuzification() > 81):\n",
        "            return 'Ya'\n",
        "        else:\n",
        "            return 'Tidak'"
      ],
      "execution_count": 0,
      "outputs": []
    },
    {
      "metadata": {
        "id": "NlkKWHYpIqXL",
        "colab_type": "code",
        "colab": {}
      },
      "cell_type": "code",
      "source": [
        "def main(self,pendapatan,hutang):\n",
        "        self.cekPendapatan(pendapatan)\n",
        "        self.cekHutang(hutang)\n",
        "        self.inference()\n",
        "        self.deffuzification()\n",
        "        return self.cekBerhak(),self.deffuzification()"
      ],
      "execution_count": 0,
      "outputs": []
    },
    {
      "metadata": {
        "id": "CB3FDzIXIsmG",
        "colab_type": "code",
        "colab": {}
      },
      "cell_type": "code",
      "source": [
        "for anying in range(0,100):\n",
        "    fuzzying = Fuzzy()\n",
        "    hasilberhak = fuzzying.main(float(pendapatan[anying]),float(hutang[anying]))\n",
        "    if(hasilberhak[0] == \"Ya\"):\n",
        "        print(str(anying+1)+\" \"+hasilberhak[0] +\" \"+str(hasilberhak[1]))"
      ],
      "execution_count": 0,
      "outputs": []
    }
  ]
}